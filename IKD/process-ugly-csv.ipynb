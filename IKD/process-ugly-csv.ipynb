{
 "metadata": {
  "language_info": {
   "codemirror_mode": {
    "name": "ipython",
    "version": 3
   },
   "file_extension": ".py",
   "mimetype": "text/x-python",
   "name": "python",
   "nbconvert_exporter": "python",
   "pygments_lexer": "ipython3",
   "version": "3.7.5-final"
  },
  "orig_nbformat": 2,
  "kernelspec": {
   "name": "python37564bita1407803385845249f26873a8a1784fa",
   "display_name": "Python 3.7.5 64-bit"
  }
 },
 "nbformat": 4,
 "nbformat_minor": 2,
 "cells": [
  {
   "cell_type": "code",
   "execution_count": 2,
   "metadata": {},
   "outputs": [
    {
     "output_type": "execute_result",
     "data": {
      "text/plain": [
       "Empty DataFrame\n",
       "Columns: [SDS_P1, SDS_P2, BME280_temperature, BME280_humidity, BME280_pressure, CH2O, NH3, CO, NO2, NH3-raw, CO-raw, NO2-raw, signal, quality]\n",
       "Index: []"
      ],
      "text/html": "<div>\n<style scoped>\n    .dataframe tbody tr th:only-of-type {\n        vertical-align: middle;\n    }\n\n    .dataframe tbody tr th {\n        vertical-align: top;\n    }\n\n    .dataframe thead th {\n        text-align: right;\n    }\n</style>\n<table border=\"1\" class=\"dataframe\">\n  <thead>\n    <tr style=\"text-align: right;\">\n      <th></th>\n      <th>SDS_P1</th>\n      <th>SDS_P2</th>\n      <th>BME280_temperature</th>\n      <th>BME280_humidity</th>\n      <th>BME280_pressure</th>\n      <th>CH2O</th>\n      <th>NH3</th>\n      <th>CO</th>\n      <th>NO2</th>\n      <th>NH3-raw</th>\n      <th>CO-raw</th>\n      <th>NO2-raw</th>\n      <th>signal</th>\n      <th>quality</th>\n    </tr>\n  </thead>\n  <tbody>\n  </tbody>\n</table>\n</div>"
     },
     "metadata": {},
     "execution_count": 2
    }
   ],
   "source": [
    "import pandas as pd\n",
    "\n",
    "test_sheet = pd.read_csv('./test_IKD_air_quality.csv',\n",
    "    names=['id', 'description', 'measure', 'value', 'timestamp'])\n",
    "full_sheet = pd.read_csv('./IKD_air_quality.csv',\n",
    "    names=['id', 'description', 'measure', 'value', 'timestamp'])\n",
    "full_sheet_1_2 = pd.read_csv('./IKD_air_quality_1_2.csv',\n",
    "    names=['id', 'description', 'measure', 'value', 'timestamp'])\n",
    "\n",
    "def empty_sheet():\n",
    "    return pd.DataFrame({\n",
    "        'SDS_P1': [],\n",
    "        'SDS_P2': [],\n",
    "        'BME280_temperature': [],\n",
    "        'BME280_humidity': [],\n",
    "        'BME280_pressure': [],\n",
    "        'CH2O': [],\n",
    "        'NH3': [],\n",
    "        'CO': [],\n",
    "        'NO2': [],\n",
    "        'NH3-raw': [],\n",
    "        'CO-raw': [],\n",
    "        'NO2-raw': [],\n",
    "        'signal': [],\n",
    "        'quality': []\n",
    "    })\n",
    "\n",
    "empty_sheet()"
   ]
  },
  {
   "cell_type": "code",
   "execution_count": 3,
   "metadata": {},
   "outputs": [
    {
     "output_type": "execute_result",
     "data": {
      "text/plain": [
       "364872"
      ]
     },
     "metadata": {},
     "execution_count": 3
    }
   ],
   "source": [
    "len(full_sheet.timestamp.unique())"
   ]
  },
  {
   "cell_type": "code",
   "execution_count": 4,
   "metadata": {},
   "outputs": [
    {
     "output_type": "execute_result",
     "data": {
      "text/plain": [
       "timestamp\n",
       "2019-12-09 16:07:11    11\n",
       "2019-12-12 15:55:20    14\n",
       "2019-12-12 15:56:25    14\n",
       "2019-12-12 15:57:29    14\n",
       "2019-12-12 15:58:33    14\n",
       "                       ..\n",
       "2020-09-30 22:30:25    14\n",
       "2020-09-30 22:31:31    14\n",
       "2020-09-30 22:32:34    14\n",
       "2020-09-30 22:33:41    14\n",
       "2020-09-30 22:34:44    14\n",
       "Length: 364872, dtype: int64"
      ]
     },
     "metadata": {},
     "execution_count": 4
    }
   ],
   "source": [
    "lines_by_moment_groups = full_sheet.groupby(full_sheet.timestamp)\n",
    "lines_by_moment = lines_by_moment_groups.size()\n",
    "lines_by_moment"
   ]
  },
  {
   "cell_type": "code",
   "execution_count": 5,
   "metadata": {},
   "outputs": [
    {
     "output_type": "execute_result",
     "data": {
      "text/plain": [
       "array([11, 14, 12,  9, 13])"
      ]
     },
     "metadata": {},
     "execution_count": 5
    }
   ],
   "source": [
    "unique_amounts_of_lines_by_moment = lines_by_moment.unique()\n",
    "unique_amounts_of_lines_by_moment"
   ]
  },
  {
   "cell_type": "code",
   "execution_count": 6,
   "metadata": {},
   "outputs": [
    {
     "output_type": "execute_result",
     "data": {
      "text/plain": [
       "9         42\n",
       "11        39\n",
       "12    225272\n",
       "13        14\n",
       "14    139505\n",
       "dtype: int64"
      ]
     },
     "metadata": {},
     "execution_count": 6
    }
   ],
   "source": [
    "moments_by_amount = lines_by_moment.groupby(lines_by_moment).count()\n",
    "moments_by_amount"
   ]
  },
  {
   "cell_type": "code",
   "execution_count": 7,
   "metadata": {},
   "outputs": [
    {
     "output_type": "execute_result",
     "data": {
      "text/plain": [
       "0.38233956017452697"
      ]
     },
     "metadata": {},
     "execution_count": 7
    }
   ],
   "source": [
    "moments_by_amount[14] / moments_by_amount.sum()"
   ]
  },
  {
   "cell_type": "code",
   "execution_count": 8,
   "metadata": {},
   "outputs": [
    {
     "output_type": "execute_result",
     "data": {
      "text/plain": [
       "0.6174000745466903"
      ]
     },
     "metadata": {},
     "execution_count": 8
    }
   ],
   "source": [
    "moments_by_amount[12] / moments_by_amount.sum()"
   ]
  },
  {
   "cell_type": "code",
   "execution_count": 3,
   "metadata": {
    "tags": []
   },
   "outputs": [
    {
     "output_type": "stream",
     "name": "stdout",
     "text": [
      "                    id  description measure      value            timestamp\n0               SDS_P1         PM10   ug/m3     49.760  2019-12-09 16:07:11\n1               SDS_P2        PM2.5   ug/m3     30.250  2019-12-09 16:07:11\n2   BME280_temperature  Temperature      °C     20.480  2019-12-09 16:07:11\n3      BME280_humidity     Humidity       %     53.250  2019-12-09 16:07:11\n4      BME280_pressure     Pressure      Pa  97850.840  2019-12-09 16:07:11\n5                 CH2O         CH₂O     ppb     40.000  2019-12-09 16:07:11\n6                  NH3          NH₃     ppm      0.287  2019-12-09 16:07:11\n7                   CO           CO     ppm      0.380  2019-12-09 16:07:11\n8                  NO2          NO₂     ppm      0.662  2019-12-09 16:07:11\n9               signal   WiFiSignal      dB    -38.000  2019-12-09 16:07:11\n10             quality  WiFiQvality       %    100.000  2019-12-09 16:07:11\n"
     ]
    },
    {
     "output_type": "execute_result",
     "data": {
      "text/plain": [
       "       SDS_P1  SDS_P2  BME280_temperature  BME280_humidity  BME280_pressure  \\\n",
       "value   49.76   30.25               20.48            53.25         97850.84   \n",
       "\n",
       "       CH2O    NH3    CO    NO2  signal  quality  \n",
       "value  40.0  0.287  0.38  0.662   -38.0    100.0  "
      ],
      "text/html": "<div>\n<style scoped>\n    .dataframe tbody tr th:only-of-type {\n        vertical-align: middle;\n    }\n\n    .dataframe tbody tr th {\n        vertical-align: top;\n    }\n\n    .dataframe thead th {\n        text-align: right;\n    }\n</style>\n<table border=\"1\" class=\"dataframe\">\n  <thead>\n    <tr style=\"text-align: right;\">\n      <th></th>\n      <th>SDS_P1</th>\n      <th>SDS_P2</th>\n      <th>BME280_temperature</th>\n      <th>BME280_humidity</th>\n      <th>BME280_pressure</th>\n      <th>CH2O</th>\n      <th>NH3</th>\n      <th>CO</th>\n      <th>NO2</th>\n      <th>signal</th>\n      <th>quality</th>\n    </tr>\n  </thead>\n  <tbody>\n    <tr>\n      <th>value</th>\n      <td>49.76</td>\n      <td>30.25</td>\n      <td>20.48</td>\n      <td>53.25</td>\n      <td>97850.84</td>\n      <td>40.0</td>\n      <td>0.287</td>\n      <td>0.38</td>\n      <td>0.662</td>\n      <td>-38.0</td>\n      <td>100.0</td>\n    </tr>\n  </tbody>\n</table>\n</div>"
     },
     "metadata": {},
     "execution_count": 3
    }
   ],
   "source": [
    "def synchronous_values_to_single_row(values: pd.DataFrame) -> pd.DataFrame:\n",
    "    '''\n",
    "    Function converts a bunch of synchronously retrieved data to a single row,\n",
    "    which is suitable for concatenation.\n",
    "    It's expected that 'values' is a result of operation like:\n",
    "        frame[frame.timestamp == 'timestamp_here']\n",
    "    '''\n",
    "    values = values[['id','value']].set_index('id')\n",
    "    values.index.name = None\n",
    "    values = values.transpose()\n",
    "    return values\n",
    "\n",
    "# example\n",
    "several_rows = test_sheet[test_sheet.timestamp == '2019-12-09 16:07:11']\n",
    "print(several_rows)\n",
    "synchronous_values_to_single_row(several_rows)\n"
   ]
  },
  {
   "cell_type": "code",
   "execution_count": 4,
   "metadata": {
    "tags": []
   },
   "outputs": [],
   "source": [
    "from multiprocessing import Pool, cpu_count\n",
    "from functools import partial\n",
    "from tqdm import tqdm\n",
    "\n",
    "from itertools import zip_longest\n",
    "\n",
    "def grouper(iterable, n, fillvalue=None):\n",
    "    args = [iter(iterable)] * n\n",
    "    return list(zip_longest(*args, fillvalue=fillvalue))\n",
    "\n",
    "\n",
    "def proccess_moment_and_write(moment: str, sheet: pd.DataFrame):\n",
    "    # print(\"Process %d working on %s...\" % (os.getpid(), moment))\n",
    "    sync_values = sheet.loc[sheet.timestamp == moment]\n",
    "    next_row = synchronous_values_to_single_row(sync_values).rename(index={'value': moment})\n",
    "    # return pd.concat([empty_sheet(), next_row]) #.to_csv('res.txt', mode='a')\n",
    "    return next_row\n",
    "\n",
    "\n",
    "# def process_chunk(chunk, sheet, out_file_path):\n",
    "#     print(\"Process {} working on [{}-{}]...\".format(os.getpid(), chunk[0], chunk[-1]))\n",
    "#     res = pd.concat([proccess_moment_and_write(m, sheet) for m in tqdm(chunk)])\n",
    "#     res = pd.concat([empty_sheet(), res])\n",
    "#     res.to_csv(out_file_path, mode='a', header=False)\n",
    "#     print(\"Chunk done.\")\n",
    "\n",
    "# def proccess_sheet(old_sheet: pd.DataFrame, out_file_path) -> None:\n",
    "#     unique_moments = old_sheet.timestamp.unique()\n",
    "#     empty_sheet().to_csv(out_file_path, header=True)\n",
    "#     # for chunk in grouper(unique_moments, 10000):\n",
    "#     with Pool(processes=cpu_count()) as executor:\n",
    "#         func = partial(process_chunk, sheet=old_sheet, out_file_path=out_file_path)\n",
    "#         executor.map(func, grouper(unique_moments, 10000))\n",
    "#         # res.to_csv(out_file_path, mode='a', header=True)\n",
    "#         print(\"Done.\")\n",
    "#         executor.close()\n",
    "#         executor.join()\n",
    "\n",
    "def proccess_sheet(old_sheet: pd.DataFrame, out_file_path) -> None:\n",
    "    unique_moments = old_sheet.timestamp.unique()\n",
    "    empty_sheet().to_csv(out_file_path, header=True)\n",
    "\n",
    "    cnt = 0\n",
    "    chunks = grouper(unique_moments, 10000)\n",
    "    for chunk in chunks:\n",
    "        with Pool(processes=cpu_count()) as executor:\n",
    "            func = partial(proccess_moment_and_write, sheet=old_sheet)\n",
    "            res = pd.concat(executor.map(func, tqdm(chunk)))\n",
    "            res = pd.concat([empty_sheet(), res])\n",
    "            res.to_csv(out_file_path, mode='a', header=False)\n",
    "            cnt += 1\n",
    "            print(\"{}/{} done.\".format(cnt, len(chunks)))\n",
    "            executor.close()\n",
    "            executor.join()\n",
    "    \n",
    "    print(\"FAT DONE.\")\n",
    "    \n",
    "\n",
    "# proccess_sheet(test_sheet, 'out-test.csv')\n",
    "# 7proccess_sheet(full_sheet, 'ikd-out.csv')\n",
    "#proccess_sheet(full_sheet_1_2, 'ikd-out-1-2.csv')"
   ]
  },
  {
   "cell_type": "code",
   "execution_count": 5,
   "metadata": {},
   "outputs": [
    {
     "output_type": "stream",
     "name": "stderr",
     "text": [
      "100%|██████████| 10000/10000 [02:22<00:00, 70.16it/s]\n",
      "1/13 done.\n",
      "100%|██████████| 10000/10000 [02:31<00:00, 66.00it/s]\n",
      "2/13 done.\n",
      "100%|██████████| 10000/10000 [02:36<00:00, 64.05it/s]\n",
      "3/13 done.\n",
      "100%|██████████| 10000/10000 [02:45<00:00, 60.30it/s]\n",
      "4/13 done.\n",
      "100%|██████████| 10000/10000 [02:39<00:00, 62.75it/s]\n",
      "5/13 done.\n",
      "100%|██████████| 10000/10000 [02:33<00:00, 65.10it/s]\n",
      "6/13 done.\n",
      "100%|██████████| 10000/10000 [02:34<00:00, 64.83it/s]\n",
      "7/13 done.\n",
      "100%|██████████| 10000/10000 [02:34<00:00, 64.54it/s]\n",
      "8/13 done.\n",
      "100%|██████████| 10000/10000 [02:34<00:00, 64.59it/s]\n",
      "9/13 done.\n",
      "100%|██████████| 10000/10000 [02:35<00:00, 64.40it/s]\n",
      "10/13 done.\n",
      "100%|██████████| 10000/10000 [02:35<00:00, 64.37it/s]\n",
      "11/13 done.\n",
      "100%|██████████| 10000/10000 [02:36<00:00, 63.94it/s]\n",
      "12/13 done.\n",
      "100%|██████████| 10000/10000 [00:29<00:00, 333.92it/s]\n",
      "13/13 done.\n",
      "FAT DONE.\n",
      "100%|██████████| 10000/10000 [02:30<00:00, 66.41it/s]\n",
      "1/11 done.\n",
      "100%|██████████| 10000/10000 [02:30<00:00, 66.61it/s]\n",
      "2/11 done.\n",
      "100%|██████████| 10000/10000 [02:31<00:00, 66.22it/s]\n",
      "3/11 done.\n",
      "100%|██████████| 10000/10000 [02:29<00:00, 67.00it/s]\n",
      "4/11 done.\n",
      "100%|██████████| 10000/10000 [02:31<00:00, 65.91it/s]\n",
      "5/11 done.\n",
      "100%|██████████| 10000/10000 [02:30<00:00, 66.50it/s]\n",
      "6/11 done.\n",
      "100%|██████████| 10000/10000 [02:35<00:00, 64.15it/s]\n",
      "7/11 done.\n",
      "100%|██████████| 10000/10000 [02:26<00:00, 68.34it/s]\n",
      "8/11 done.\n",
      "100%|██████████| 10000/10000 [02:21<00:00, 70.76it/s]\n",
      "9/11 done.\n",
      "100%|██████████| 10000/10000 [02:21<00:00, 70.72it/s]\n",
      "10/11 done.\n",
      "100%|██████████| 10000/10000 [00:53<00:00, 185.43it/s]\n",
      "11/11 done.\n",
      "FAT DONE.\n"
     ]
    }
   ],
   "source": [
    "full_sheet_2_3 = pd.read_csv('./IKD_air_quality_2_3.csv',\n",
    "    names=['id', 'description', 'measure', 'value', 'timestamp'])\n",
    "full_sheet_3_3 = pd.read_csv('./IKD_air_quality_3_3.csv',\n",
    "    names=['id', 'description', 'measure', 'value', 'timestamp'])\n",
    "\n",
    "proccess_sheet(full_sheet_2_3, 'ikd-out-2-3.csv')\n",
    "proccess_sheet(full_sheet_3_3, 'ikd-out-3-3.csv')"
   ]
  },
  {
   "cell_type": "code",
   "execution_count": 1,
   "metadata": {
    "tags": []
   },
   "outputs": [
    {
     "output_type": "execute_result",
     "data": {
      "text/plain": [
       "                 Unnamed: 0  SDS_P1  SDS_P2  BME280_temperature  \\\n",
       "0       2019-12-09 16:07:11   49.76   30.25               20.48   \n",
       "1       2019-12-12 15:55:20   51.20   23.58                4.56   \n",
       "2       2019-12-12 15:56:25   30.90   18.02                4.57   \n",
       "3       2019-12-12 15:57:29   26.93   15.71                4.61   \n",
       "4       2019-12-12 15:58:33   23.50   14.18                4.66   \n",
       "...                     ...     ...     ...                 ...   \n",
       "364867  2020-09-30 22:30:25    2.28    1.02               11.33   \n",
       "364868  2020-09-30 22:31:31    3.63    0.79               11.34   \n",
       "364869  2020-09-30 22:32:34    1.32    1.09               11.37   \n",
       "364870  2020-09-30 22:33:41   11.49    1.73               11.34   \n",
       "364871  2020-09-30 22:34:44    2.45    1.59               11.35   \n",
       "\n",
       "        BME280_humidity  BME280_pressure  CH2O    NH3     CO    NO2  NH3-raw  \\\n",
       "0                 53.25         97850.84  40.0  0.287  0.380  0.662      NaN   \n",
       "1                 71.87         98181.98  15.0  0.002  0.305  7.781    817.0   \n",
       "2                 71.68         98186.29  16.0  0.003  0.328  7.537    808.0   \n",
       "3                 71.01         98187.86  15.0  0.003  0.322  7.551    801.0   \n",
       "4                 70.85         98180.66  16.0  0.002  0.276  7.764    836.0   \n",
       "...                 ...              ...   ...    ...    ...    ...      ...   \n",
       "364867           100.00         98428.20   0.0  0.035  0.590  0.165    662.0   \n",
       "364868           100.00         98424.58   0.0  0.034  0.580  0.205    666.0   \n",
       "364869           100.00         98428.83   0.0  0.033  0.569  0.201    657.0   \n",
       "364870           100.00         98418.45   0.0  0.035  0.574  0.189    667.0   \n",
       "364871           100.00         98428.95   0.0  0.033  0.564  0.243    686.0   \n",
       "\n",
       "        CO-raw  NO2-raw  signal  quality  \n",
       "0          NaN      NaN   -38.0    100.0  \n",
       "1        576.0    892.0   -89.0     22.0  \n",
       "2        555.0    892.0   -88.0     24.0  \n",
       "3        576.0    891.0   -87.0     26.0  \n",
       "4        605.0    895.0   -88.0     24.0  \n",
       "...        ...      ...     ...      ...  \n",
       "364867   499.0    996.0   -82.0     36.0  \n",
       "364868   505.0    998.0   -82.0     36.0  \n",
       "364869   491.0    997.0   -82.0     36.0  \n",
       "364870   502.0   1001.0   -82.0     36.0  \n",
       "364871   522.0   1002.0   -82.0     36.0  \n",
       "\n",
       "[364872 rows x 15 columns]"
      ],
      "text/html": "<div>\n<style scoped>\n    .dataframe tbody tr th:only-of-type {\n        vertical-align: middle;\n    }\n\n    .dataframe tbody tr th {\n        vertical-align: top;\n    }\n\n    .dataframe thead th {\n        text-align: right;\n    }\n</style>\n<table border=\"1\" class=\"dataframe\">\n  <thead>\n    <tr style=\"text-align: right;\">\n      <th></th>\n      <th>Unnamed: 0</th>\n      <th>SDS_P1</th>\n      <th>SDS_P2</th>\n      <th>BME280_temperature</th>\n      <th>BME280_humidity</th>\n      <th>BME280_pressure</th>\n      <th>CH2O</th>\n      <th>NH3</th>\n      <th>CO</th>\n      <th>NO2</th>\n      <th>NH3-raw</th>\n      <th>CO-raw</th>\n      <th>NO2-raw</th>\n      <th>signal</th>\n      <th>quality</th>\n    </tr>\n  </thead>\n  <tbody>\n    <tr>\n      <th>0</th>\n      <td>2019-12-09 16:07:11</td>\n      <td>49.76</td>\n      <td>30.25</td>\n      <td>20.48</td>\n      <td>53.25</td>\n      <td>97850.84</td>\n      <td>40.0</td>\n      <td>0.287</td>\n      <td>0.380</td>\n      <td>0.662</td>\n      <td>NaN</td>\n      <td>NaN</td>\n      <td>NaN</td>\n      <td>-38.0</td>\n      <td>100.0</td>\n    </tr>\n    <tr>\n      <th>1</th>\n      <td>2019-12-12 15:55:20</td>\n      <td>51.20</td>\n      <td>23.58</td>\n      <td>4.56</td>\n      <td>71.87</td>\n      <td>98181.98</td>\n      <td>15.0</td>\n      <td>0.002</td>\n      <td>0.305</td>\n      <td>7.781</td>\n      <td>817.0</td>\n      <td>576.0</td>\n      <td>892.0</td>\n      <td>-89.0</td>\n      <td>22.0</td>\n    </tr>\n    <tr>\n      <th>2</th>\n      <td>2019-12-12 15:56:25</td>\n      <td>30.90</td>\n      <td>18.02</td>\n      <td>4.57</td>\n      <td>71.68</td>\n      <td>98186.29</td>\n      <td>16.0</td>\n      <td>0.003</td>\n      <td>0.328</td>\n      <td>7.537</td>\n      <td>808.0</td>\n      <td>555.0</td>\n      <td>892.0</td>\n      <td>-88.0</td>\n      <td>24.0</td>\n    </tr>\n    <tr>\n      <th>3</th>\n      <td>2019-12-12 15:57:29</td>\n      <td>26.93</td>\n      <td>15.71</td>\n      <td>4.61</td>\n      <td>71.01</td>\n      <td>98187.86</td>\n      <td>15.0</td>\n      <td>0.003</td>\n      <td>0.322</td>\n      <td>7.551</td>\n      <td>801.0</td>\n      <td>576.0</td>\n      <td>891.0</td>\n      <td>-87.0</td>\n      <td>26.0</td>\n    </tr>\n    <tr>\n      <th>4</th>\n      <td>2019-12-12 15:58:33</td>\n      <td>23.50</td>\n      <td>14.18</td>\n      <td>4.66</td>\n      <td>70.85</td>\n      <td>98180.66</td>\n      <td>16.0</td>\n      <td>0.002</td>\n      <td>0.276</td>\n      <td>7.764</td>\n      <td>836.0</td>\n      <td>605.0</td>\n      <td>895.0</td>\n      <td>-88.0</td>\n      <td>24.0</td>\n    </tr>\n    <tr>\n      <th>...</th>\n      <td>...</td>\n      <td>...</td>\n      <td>...</td>\n      <td>...</td>\n      <td>...</td>\n      <td>...</td>\n      <td>...</td>\n      <td>...</td>\n      <td>...</td>\n      <td>...</td>\n      <td>...</td>\n      <td>...</td>\n      <td>...</td>\n      <td>...</td>\n      <td>...</td>\n    </tr>\n    <tr>\n      <th>364867</th>\n      <td>2020-09-30 22:30:25</td>\n      <td>2.28</td>\n      <td>1.02</td>\n      <td>11.33</td>\n      <td>100.00</td>\n      <td>98428.20</td>\n      <td>0.0</td>\n      <td>0.035</td>\n      <td>0.590</td>\n      <td>0.165</td>\n      <td>662.0</td>\n      <td>499.0</td>\n      <td>996.0</td>\n      <td>-82.0</td>\n      <td>36.0</td>\n    </tr>\n    <tr>\n      <th>364868</th>\n      <td>2020-09-30 22:31:31</td>\n      <td>3.63</td>\n      <td>0.79</td>\n      <td>11.34</td>\n      <td>100.00</td>\n      <td>98424.58</td>\n      <td>0.0</td>\n      <td>0.034</td>\n      <td>0.580</td>\n      <td>0.205</td>\n      <td>666.0</td>\n      <td>505.0</td>\n      <td>998.0</td>\n      <td>-82.0</td>\n      <td>36.0</td>\n    </tr>\n    <tr>\n      <th>364869</th>\n      <td>2020-09-30 22:32:34</td>\n      <td>1.32</td>\n      <td>1.09</td>\n      <td>11.37</td>\n      <td>100.00</td>\n      <td>98428.83</td>\n      <td>0.0</td>\n      <td>0.033</td>\n      <td>0.569</td>\n      <td>0.201</td>\n      <td>657.0</td>\n      <td>491.0</td>\n      <td>997.0</td>\n      <td>-82.0</td>\n      <td>36.0</td>\n    </tr>\n    <tr>\n      <th>364870</th>\n      <td>2020-09-30 22:33:41</td>\n      <td>11.49</td>\n      <td>1.73</td>\n      <td>11.34</td>\n      <td>100.00</td>\n      <td>98418.45</td>\n      <td>0.0</td>\n      <td>0.035</td>\n      <td>0.574</td>\n      <td>0.189</td>\n      <td>667.0</td>\n      <td>502.0</td>\n      <td>1001.0</td>\n      <td>-82.0</td>\n      <td>36.0</td>\n    </tr>\n    <tr>\n      <th>364871</th>\n      <td>2020-09-30 22:34:44</td>\n      <td>2.45</td>\n      <td>1.59</td>\n      <td>11.35</td>\n      <td>100.00</td>\n      <td>98428.95</td>\n      <td>0.0</td>\n      <td>0.033</td>\n      <td>0.564</td>\n      <td>0.243</td>\n      <td>686.0</td>\n      <td>522.0</td>\n      <td>1002.0</td>\n      <td>-82.0</td>\n      <td>36.0</td>\n    </tr>\n  </tbody>\n</table>\n<p>364872 rows × 15 columns</p>\n</div>"
     },
     "metadata": {},
     "execution_count": 1
    }
   ],
   "source": [
    "# toooo long operation\n",
    "# res = proccess_sheet(full_sheet)\n",
    "# res\n",
    "\n",
    "import pandas as pd\n",
    "\n",
    "pd.read_csv('ikd-out.csv')"
   ]
  },
  {
   "cell_type": "code",
   "execution_count": null,
   "metadata": {},
   "outputs": [],
   "source": []
  }
 ]
}