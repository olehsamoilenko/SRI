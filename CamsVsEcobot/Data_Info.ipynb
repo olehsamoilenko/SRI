{
 "metadata": {
  "language_info": {
   "codemirror_mode": {
    "name": "ipython",
    "version": 3
   },
   "file_extension": ".py",
   "mimetype": "text/x-python",
   "name": "python",
   "nbconvert_exporter": "python",
   "pygments_lexer": "ipython3",
   "version": "3.7.6"
  },
  "orig_nbformat": 2,
  "kernelspec": {
   "name": "python3",
   "display_name": "Python 3.7.6 64-bit ('base': conda)"
  },
  "interpreter": {
   "hash": "00decda10f1d8506305800fb1f3b407cae6defce786d9275d57977dc520743a8"
  }
 },
 "nbformat": 4,
 "nbformat_minor": 2,
 "cells": [
  {
   "cell_type": "code",
   "execution_count": 1,
   "source": [
    "import datetime\n",
    "import folium\n",
    "import importlib\n",
    "import pandas as pd\n",
    "import statistics\n",
    "import tqdm\n",
    "\n",
    "import SaveEcoBotFinder\n",
    "import IdMatcher\n",
    "import CamsWrapper\n",
    "\n",
    "importlib.reload(SaveEcoBotFinder)\n",
    "importlib.reload(IdMatcher)\n",
    "importlib.reload(CamsWrapper)\n",
    "\n",
    "from SaveEcoBotFinder import SaveEcoBotFinder\n",
    "from IdMatcher import IdMatcher\n",
    "from CamsWrapper import CamsWrapper\n",
    "\n",
    "MATCHER = IdMatcher(\"співставлення ID постів з ID Cams.csv\", bannedStations=[])\n",
    "FINDER = SaveEcoBotFinder(\"/media/osamoile/data/Ecobot_16_11_2020\")\n",
    "# CAMS = CamsWrapper(\"Cams_2019_2020_pm2.5_Kyiv.csv\")"
   ],
   "outputs": [],
   "metadata": {}
  },
  {
   "cell_type": "code",
   "execution_count": 2,
   "source": [
    "fullDf = pd.read_csv(\"/media/osamoile/data/all_posts.csv\")\n",
    "fullDf.sort_values(by=[\"date\", \"hour\", \"minute\", \"second\"], inplace=True)\n",
    "fullDf"
   ],
   "outputs": [
    {
     "output_type": "execute_result",
     "data": {
      "text/html": [
       "<div>\n",
       "<style scoped>\n",
       "    .dataframe tbody tr th:only-of-type {\n",
       "        vertical-align: middle;\n",
       "    }\n",
       "\n",
       "    .dataframe tbody tr th {\n",
       "        vertical-align: top;\n",
       "    }\n",
       "\n",
       "    .dataframe thead th {\n",
       "        text-align: right;\n",
       "    }\n",
       "</style>\n",
       "<table border=\"1\" class=\"dataframe\">\n",
       "  <thead>\n",
       "    <tr style=\"text-align: right;\">\n",
       "      <th></th>\n",
       "      <th>device_id</th>\n",
       "      <th>phenomenon</th>\n",
       "      <th>value</th>\n",
       "      <th>logged_at</th>\n",
       "      <th>value_text</th>\n",
       "      <th>date</th>\n",
       "      <th>hour</th>\n",
       "      <th>minute</th>\n",
       "      <th>second</th>\n",
       "    </tr>\n",
       "  </thead>\n",
       "  <tbody>\n",
       "    <tr>\n",
       "      <th>2057952</th>\n",
       "      <td>28</td>\n",
       "      <td>pm25</td>\n",
       "      <td>14.2200</td>\n",
       "      <td>2019-03-10 00:03:38</td>\n",
       "      <td>NaN</td>\n",
       "      <td>2019-03-10</td>\n",
       "      <td>0</td>\n",
       "      <td>3</td>\n",
       "      <td>38</td>\n",
       "    </tr>\n",
       "    <tr>\n",
       "      <th>2482767</th>\n",
       "      <td>30</td>\n",
       "      <td>pm25</td>\n",
       "      <td>24.0200</td>\n",
       "      <td>2019-03-10 00:03:46</td>\n",
       "      <td>NaN</td>\n",
       "      <td>2019-03-10</td>\n",
       "      <td>0</td>\n",
       "      <td>3</td>\n",
       "      <td>46</td>\n",
       "    </tr>\n",
       "    <tr>\n",
       "      <th>2057953</th>\n",
       "      <td>28</td>\n",
       "      <td>pm25</td>\n",
       "      <td>14.9200</td>\n",
       "      <td>2019-03-10 00:06:09</td>\n",
       "      <td>NaN</td>\n",
       "      <td>2019-03-10</td>\n",
       "      <td>0</td>\n",
       "      <td>6</td>\n",
       "      <td>9</td>\n",
       "    </tr>\n",
       "    <tr>\n",
       "      <th>2482768</th>\n",
       "      <td>30</td>\n",
       "      <td>pm25</td>\n",
       "      <td>22.6000</td>\n",
       "      <td>2019-03-10 00:06:14</td>\n",
       "      <td>NaN</td>\n",
       "      <td>2019-03-10</td>\n",
       "      <td>0</td>\n",
       "      <td>6</td>\n",
       "      <td>14</td>\n",
       "    </tr>\n",
       "    <tr>\n",
       "      <th>2057954</th>\n",
       "      <td>28</td>\n",
       "      <td>pm25</td>\n",
       "      <td>15.2000</td>\n",
       "      <td>2019-03-10 00:08:37</td>\n",
       "      <td>NaN</td>\n",
       "      <td>2019-03-10</td>\n",
       "      <td>0</td>\n",
       "      <td>8</td>\n",
       "      <td>37</td>\n",
       "    </tr>\n",
       "    <tr>\n",
       "      <th>...</th>\n",
       "      <td>...</td>\n",
       "      <td>...</td>\n",
       "      <td>...</td>\n",
       "      <td>...</td>\n",
       "      <td>...</td>\n",
       "      <td>...</td>\n",
       "      <td>...</td>\n",
       "      <td>...</td>\n",
       "      <td>...</td>\n",
       "    </tr>\n",
       "    <tr>\n",
       "      <th>8228593</th>\n",
       "      <td>13141</td>\n",
       "      <td>pm25</td>\n",
       "      <td>29.9500</td>\n",
       "      <td>2020-11-16 22:13:39</td>\n",
       "      <td>NaN</td>\n",
       "      <td>2020-11-16</td>\n",
       "      <td>22</td>\n",
       "      <td>13</td>\n",
       "      <td>39</td>\n",
       "    </tr>\n",
       "    <tr>\n",
       "      <th>8470855</th>\n",
       "      <td>13802</td>\n",
       "      <td>pm25</td>\n",
       "      <td>40.3462</td>\n",
       "      <td>2020-11-16 22:13:39</td>\n",
       "      <td>NaN</td>\n",
       "      <td>2020-11-16</td>\n",
       "      <td>22</td>\n",
       "      <td>13</td>\n",
       "      <td>39</td>\n",
       "    </tr>\n",
       "    <tr>\n",
       "      <th>11191987</th>\n",
       "      <td>13207</td>\n",
       "      <td>pm25</td>\n",
       "      <td>28.1667</td>\n",
       "      <td>2020-11-16 22:13:39</td>\n",
       "      <td>NaN</td>\n",
       "      <td>2020-11-16</td>\n",
       "      <td>22</td>\n",
       "      <td>13</td>\n",
       "      <td>39</td>\n",
       "    </tr>\n",
       "    <tr>\n",
       "      <th>15455361</th>\n",
       "      <td>13208</td>\n",
       "      <td>pm25</td>\n",
       "      <td>29.6296</td>\n",
       "      <td>2020-11-16 22:13:39</td>\n",
       "      <td>NaN</td>\n",
       "      <td>2020-11-16</td>\n",
       "      <td>22</td>\n",
       "      <td>13</td>\n",
       "      <td>39</td>\n",
       "    </tr>\n",
       "    <tr>\n",
       "      <th>11208831</th>\n",
       "      <td>13413</td>\n",
       "      <td>pm25</td>\n",
       "      <td>6.0300</td>\n",
       "      <td>2020-11-16 22:15:17</td>\n",
       "      <td>NaN</td>\n",
       "      <td>2020-11-16</td>\n",
       "      <td>22</td>\n",
       "      <td>15</td>\n",
       "      <td>17</td>\n",
       "    </tr>\n",
       "  </tbody>\n",
       "</table>\n",
       "<p>16295451 rows × 9 columns</p>\n",
       "</div>"
      ],
      "text/plain": [
       "          device_id phenomenon    value            logged_at  value_text  \\\n",
       "2057952          28       pm25  14.2200  2019-03-10 00:03:38         NaN   \n",
       "2482767          30       pm25  24.0200  2019-03-10 00:03:46         NaN   \n",
       "2057953          28       pm25  14.9200  2019-03-10 00:06:09         NaN   \n",
       "2482768          30       pm25  22.6000  2019-03-10 00:06:14         NaN   \n",
       "2057954          28       pm25  15.2000  2019-03-10 00:08:37         NaN   \n",
       "...             ...        ...      ...                  ...         ...   \n",
       "8228593       13141       pm25  29.9500  2020-11-16 22:13:39         NaN   \n",
       "8470855       13802       pm25  40.3462  2020-11-16 22:13:39         NaN   \n",
       "11191987      13207       pm25  28.1667  2020-11-16 22:13:39         NaN   \n",
       "15455361      13208       pm25  29.6296  2020-11-16 22:13:39         NaN   \n",
       "11208831      13413       pm25   6.0300  2020-11-16 22:15:17         NaN   \n",
       "\n",
       "                date  hour  minute  second  \n",
       "2057952   2019-03-10     0       3      38  \n",
       "2482767   2019-03-10     0       3      46  \n",
       "2057953   2019-03-10     0       6       9  \n",
       "2482768   2019-03-10     0       6      14  \n",
       "2057954   2019-03-10     0       8      37  \n",
       "...              ...   ...     ...     ...  \n",
       "8228593   2020-11-16    22      13      39  \n",
       "8470855   2020-11-16    22      13      39  \n",
       "11191987  2020-11-16    22      13      39  \n",
       "15455361  2020-11-16    22      13      39  \n",
       "11208831  2020-11-16    22      15      17  \n",
       "\n",
       "[16295451 rows x 9 columns]"
      ]
     },
     "metadata": {},
     "execution_count": 2
    }
   ],
   "metadata": {}
  },
  {
   "cell_type": "markdown",
   "source": [
    "1. Data about pm25 pollutant\n",
    "2. Data from 2019-03-10 till 2020-11-16 - totally 20 months"
   ],
   "metadata": {}
  },
  {
   "cell_type": "code",
   "execution_count": 13,
   "source": [
    "unique_list = fullDf.device_id.unique()\n",
    "\n",
    "cams_ids = []\n",
    "for i in unique_list:\n",
    "    cams_ids.append(MATCHER.getCamsIdByPostId(i))\n",
    "\n",
    "postCamsMatch = pd.DataFrame({\"device_id\": unique_list, \"cams_id\": cams_ids})\n",
    "postCamsMatch"
   ],
   "outputs": [
    {
     "output_type": "execute_result",
     "data": {
      "text/html": [
       "<div>\n",
       "<style scoped>\n",
       "    .dataframe tbody tr th:only-of-type {\n",
       "        vertical-align: middle;\n",
       "    }\n",
       "\n",
       "    .dataframe tbody tr th {\n",
       "        vertical-align: top;\n",
       "    }\n",
       "\n",
       "    .dataframe thead th {\n",
       "        text-align: right;\n",
       "    }\n",
       "</style>\n",
       "<table border=\"1\" class=\"dataframe\">\n",
       "  <thead>\n",
       "    <tr style=\"text-align: right;\">\n",
       "      <th></th>\n",
       "      <th>device_id</th>\n",
       "      <th>cams_id</th>\n",
       "    </tr>\n",
       "  </thead>\n",
       "  <tbody>\n",
       "    <tr>\n",
       "      <th>0</th>\n",
       "      <td>28</td>\n",
       "      <td>6563</td>\n",
       "    </tr>\n",
       "    <tr>\n",
       "      <th>1</th>\n",
       "      <td>30</td>\n",
       "      <td>6562</td>\n",
       "    </tr>\n",
       "    <tr>\n",
       "      <th>2</th>\n",
       "      <td>43</td>\n",
       "      <td>6564</td>\n",
       "    </tr>\n",
       "    <tr>\n",
       "      <th>3</th>\n",
       "      <td>47</td>\n",
       "      <td>6378</td>\n",
       "    </tr>\n",
       "    <tr>\n",
       "      <th>4</th>\n",
       "      <td>108</td>\n",
       "      <td>6747</td>\n",
       "    </tr>\n",
       "    <tr>\n",
       "      <th>...</th>\n",
       "      <td>...</td>\n",
       "      <td>...</td>\n",
       "    </tr>\n",
       "    <tr>\n",
       "      <th>146</th>\n",
       "      <td>13802</td>\n",
       "      <td>6378</td>\n",
       "    </tr>\n",
       "    <tr>\n",
       "      <th>147</th>\n",
       "      <td>13803</td>\n",
       "      <td>6564</td>\n",
       "    </tr>\n",
       "    <tr>\n",
       "      <th>148</th>\n",
       "      <td>13811</td>\n",
       "      <td>6564</td>\n",
       "    </tr>\n",
       "    <tr>\n",
       "      <th>149</th>\n",
       "      <td>13820</td>\n",
       "      <td>6379</td>\n",
       "    </tr>\n",
       "    <tr>\n",
       "      <th>150</th>\n",
       "      <td>13853</td>\n",
       "      <td>6563</td>\n",
       "    </tr>\n",
       "  </tbody>\n",
       "</table>\n",
       "<p>151 rows × 2 columns</p>\n",
       "</div>"
      ],
      "text/plain": [
       "     device_id  cams_id\n",
       "0           28     6563\n",
       "1           30     6562\n",
       "2           43     6564\n",
       "3           47     6378\n",
       "4          108     6747\n",
       "..         ...      ...\n",
       "146      13802     6378\n",
       "147      13803     6564\n",
       "148      13811     6564\n",
       "149      13820     6379\n",
       "150      13853     6563\n",
       "\n",
       "[151 rows x 2 columns]"
      ]
     },
     "metadata": {},
     "execution_count": 13
    }
   ],
   "metadata": {}
  },
  {
   "cell_type": "code",
   "execution_count": 20,
   "source": [
    "unique_cams_list = postCamsMatch.cams_id.unique()\n",
    "len(unique_cams_list)"
   ],
   "outputs": [
    {
     "output_type": "execute_result",
     "data": {
      "text/plain": [
       "12"
      ]
     },
     "metadata": {},
     "execution_count": 20
    }
   ],
   "metadata": {}
  },
  {
   "cell_type": "code",
   "execution_count": 19,
   "source": [
    "postCamsMatch.groupby(postCamsMatch.cams_id).count().sort_values(\"device_id\", ascending=False)"
   ],
   "outputs": [
    {
     "output_type": "execute_result",
     "data": {
      "text/html": [
       "<div>\n",
       "<style scoped>\n",
       "    .dataframe tbody tr th:only-of-type {\n",
       "        vertical-align: middle;\n",
       "    }\n",
       "\n",
       "    .dataframe tbody tr th {\n",
       "        vertical-align: top;\n",
       "    }\n",
       "\n",
       "    .dataframe thead th {\n",
       "        text-align: right;\n",
       "    }\n",
       "</style>\n",
       "<table border=\"1\" class=\"dataframe\">\n",
       "  <thead>\n",
       "    <tr style=\"text-align: right;\">\n",
       "      <th></th>\n",
       "      <th>device_id</th>\n",
       "    </tr>\n",
       "    <tr>\n",
       "      <th>cams_id</th>\n",
       "      <th></th>\n",
       "    </tr>\n",
       "  </thead>\n",
       "  <tbody>\n",
       "    <tr>\n",
       "      <th>6378</th>\n",
       "      <td>39</td>\n",
       "    </tr>\n",
       "    <tr>\n",
       "      <th>6564</th>\n",
       "      <td>32</td>\n",
       "    </tr>\n",
       "    <tr>\n",
       "      <th>6563</th>\n",
       "      <td>31</td>\n",
       "    </tr>\n",
       "    <tr>\n",
       "      <th>6377</th>\n",
       "      <td>12</td>\n",
       "    </tr>\n",
       "    <tr>\n",
       "      <th>6379</th>\n",
       "      <td>11</td>\n",
       "    </tr>\n",
       "    <tr>\n",
       "      <th>6749</th>\n",
       "      <td>9</td>\n",
       "    </tr>\n",
       "    <tr>\n",
       "      <th>6193</th>\n",
       "      <td>5</td>\n",
       "    </tr>\n",
       "    <tr>\n",
       "      <th>6194</th>\n",
       "      <td>4</td>\n",
       "    </tr>\n",
       "    <tr>\n",
       "      <th>6562</th>\n",
       "      <td>4</td>\n",
       "    </tr>\n",
       "    <tr>\n",
       "      <th>6747</th>\n",
       "      <td>2</td>\n",
       "    </tr>\n",
       "    <tr>\n",
       "      <th>6192</th>\n",
       "      <td>1</td>\n",
       "    </tr>\n",
       "    <tr>\n",
       "      <th>6748</th>\n",
       "      <td>1</td>\n",
       "    </tr>\n",
       "  </tbody>\n",
       "</table>\n",
       "</div>"
      ],
      "text/plain": [
       "         device_id\n",
       "cams_id           \n",
       "6378            39\n",
       "6564            32\n",
       "6563            31\n",
       "6377            12\n",
       "6379            11\n",
       "6749             9\n",
       "6193             5\n",
       "6194             4\n",
       "6562             4\n",
       "6747             2\n",
       "6192             1\n",
       "6748             1"
      ]
     },
     "metadata": {},
     "execution_count": 19
    }
   ],
   "metadata": {}
  },
  {
   "cell_type": "markdown",
   "source": [
    "Data from 151 post in 12 pixels\n",
    "\n",
    "!!! Show schema in slides"
   ],
   "metadata": {}
  },
  {
   "cell_type": "code",
   "execution_count": 27,
   "source": [
    "res = fullDf.groupby(fullDf.device_id).date.apply(lambda x: len(x.unique())).sort_values(ascending=False)\n",
    "res\n",
    "#res.head(10)"
   ],
   "outputs": [
    {
     "output_type": "execute_result",
     "data": {
      "text/plain": [
       "device_id\n",
       "30      617\n",
       "43      610\n",
       "28      491\n",
       "914     482\n",
       "915     467\n",
       "       ... \n",
       "1415      2\n",
       "3600      2\n",
       "1330      1\n",
       "3709      1\n",
       "3111      1\n",
       "Name: date, Length: 151, dtype: int64"
      ]
     },
     "metadata": {},
     "execution_count": 27
    }
   ],
   "metadata": {}
  },
  {
   "cell_type": "code",
   "execution_count": 28,
   "source": [
    "res.describe()"
   ],
   "outputs": [
    {
     "output_type": "execute_result",
     "data": {
      "text/plain": [
       "count    151.000000\n",
       "mean     177.927152\n",
       "std      135.395869\n",
       "min        1.000000\n",
       "25%       62.500000\n",
       "50%      170.000000\n",
       "75%      264.500000\n",
       "max      617.000000\n",
       "Name: date, dtype: float64"
      ]
     },
     "metadata": {},
     "execution_count": 28
    }
   ],
   "metadata": {}
  },
  {
   "cell_type": "markdown",
   "source": [
    "Amount of days when post is active is from 1 to 617 days with median 170 days"
   ],
   "metadata": {}
  },
  {
   "cell_type": "code",
   "execution_count": 32,
   "source": [
    "res = fullDf.groupby([fullDf.device_id, fullDf.date]).value.count()\n",
    "res.sort_values(ascending=False)"
   ],
   "outputs": [
    {
     "output_type": "execute_result",
     "data": {
      "text/plain": [
       "device_id  date      \n",
       "108        2019-04-21    1257\n",
       "43         2019-04-22    1252\n",
       "108        2019-04-20    1252\n",
       "43         2019-04-19    1252\n",
       "108        2019-04-19    1244\n",
       "                         ... \n",
       "3690       2020-08-07       1\n",
       "3687       2020-05-13       1\n",
       "3690       2020-08-22       1\n",
       "3692       2020-05-13       1\n",
       "1387       2020-03-17       1\n",
       "Name: value, Length: 26867, dtype: int64"
      ]
     },
     "metadata": {},
     "execution_count": 32
    }
   ],
   "metadata": {}
  },
  {
   "cell_type": "code",
   "execution_count": 33,
   "source": [
    "res.describe()"
   ],
   "outputs": [
    {
     "output_type": "execute_result",
     "data": {
      "text/plain": [
       "count    26867.000000\n",
       "mean       606.522909\n",
       "std        320.866544\n",
       "min          1.000000\n",
       "25%        432.000000\n",
       "50%        557.000000\n",
       "75%        949.000000\n",
       "max       1257.000000\n",
       "Name: value, dtype: float64"
      ]
     },
     "metadata": {},
     "execution_count": 33
    }
   ],
   "metadata": {}
  },
  {
   "cell_type": "markdown",
   "source": [
    "Amount of station logs in from 1 to 1257 per hour (~ 1 log per 1.5 minutes)\n",
    "\n",
    "Median is 557 logs per day (~ 1 log per 3 minutes)"
   ],
   "metadata": {}
  },
  {
   "cell_type": "code",
   "execution_count": 64,
   "source": [
    "post30 = pd.read_csv(\"/media/osamoile/data/Ecobot_16_11_2020/saveecobot_30.csv\")\n",
    "post30.phenomenon.unique()"
   ],
   "outputs": [
    {
     "output_type": "execute_result",
     "data": {
      "text/plain": [
       "array(['pm10', 'pm25', 'humidity', 'temperature'], dtype=object)"
      ]
     },
     "metadata": {},
     "execution_count": 64
    }
   ],
   "metadata": {}
  },
  {
   "cell_type": "code",
   "execution_count": null,
   "source": [],
   "outputs": [],
   "metadata": {}
  }
 ]
}